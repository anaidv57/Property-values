{
 "cells": [
  {
   "cell_type": "code",
   "execution_count": 46,
   "metadata": {},
   "outputs": [
    {
     "data": {
      "text/html": [
       "<ol class=list-inline>\n",
       "\t<li>'housenum'</li>\n",
       "\t<li>'acre'</li>\n",
       "\t<li>'bedgroup'</li>\n",
       "\t<li>'bikescore'</li>\n",
       "\t<li>'distance'</li>\n",
       "\t<li>'garage_spaces'</li>\n",
       "\t<li>'no_full_baths'</li>\n",
       "\t<li>'no_half_baths'</li>\n",
       "\t<li>'no_rooms'</li>\n",
       "\t<li>'price2014'</li>\n",
       "\t<li>'squarefeet'</li>\n",
       "\t<li>'walkscore'</li>\n",
       "\t<li>'zip'</li>\n",
       "</ol>\n"
      ],
      "text/latex": [
       "\\begin{enumerate*}\n",
       "\\item 'housenum'\n",
       "\\item 'acre'\n",
       "\\item 'bedgroup'\n",
       "\\item 'bikescore'\n",
       "\\item 'distance'\n",
       "\\item 'garage\\_spaces'\n",
       "\\item 'no\\_full\\_baths'\n",
       "\\item 'no\\_half\\_baths'\n",
       "\\item 'no\\_rooms'\n",
       "\\item 'price2014'\n",
       "\\item 'squarefeet'\n",
       "\\item 'walkscore'\n",
       "\\item 'zip'\n",
       "\\end{enumerate*}\n"
      ],
      "text/markdown": [
       "1. 'housenum'\n",
       "2. 'acre'\n",
       "3. 'bedgroup'\n",
       "4. 'bikescore'\n",
       "5. 'distance'\n",
       "6. 'garage_spaces'\n",
       "7. 'no_full_baths'\n",
       "8. 'no_half_baths'\n",
       "9. 'no_rooms'\n",
       "10. 'price2014'\n",
       "11. 'squarefeet'\n",
       "12. 'walkscore'\n",
       "13. 'zip'\n",
       "\n",
       "\n"
      ],
      "text/plain": [
       " [1] \"housenum\"      \"acre\"          \"bedgroup\"      \"bikescore\"    \n",
       " [5] \"distance\"      \"garage_spaces\" \"no_full_baths\" \"no_half_baths\"\n",
       " [9] \"no_rooms\"      \"price2014\"     \"squarefeet\"    \"walkscore\"    \n",
       "[13] \"zip\"          "
      ]
     },
     "metadata": {},
     "output_type": "display_data"
    }
   ],
   "source": [
    "#' ---\n",
    "#' title: Coursework 1 - Simple linear and multiple linear regression\n",
    "#' date: 23 Nov 2017\n",
    "#' ---\n",
    "#Set directory \n",
    "library(car)\n",
    "library(calibrate)\n",
    "library(\"ggplot2\")\n",
    "setwd(\"D:/Lancaster University/Modules/Statistical methods/Generalised Linear Models/Coursework/coursework for glm course-20171103\") \n",
    "hoPric=read.csv(\"houseprices.csv\", header=T)\n",
    "names(hoPric)\n"
   ]
  },
  {
   "cell_type": "code",
   "execution_count": 47,
   "metadata": {},
   "outputs": [
    {
     "name": "stdout",
     "output_type": "stream",
     "text": [
      "[1] \"Correlation between price and distance\"\n"
     ]
    },
    {
     "data": {
      "text/html": [
       "-0.449262215675428"
      ],
      "text/latex": [
       "-0.449262215675428"
      ],
      "text/markdown": [
       "-0.449262215675428"
      ],
      "text/plain": [
       "[1] -0.4492622"
      ]
     },
     "metadata": {},
     "output_type": "display_data"
    },
    {
     "name": "stdout",
     "output_type": "stream",
     "text": [
      "[1] \"Correlation between price and squarefeet\"\n"
     ]
    },
    {
     "data": {
      "text/html": [
       "0.801669232230186"
      ],
      "text/latex": [
       "0.801669232230186"
      ],
      "text/markdown": [
       "0.801669232230186"
      ],
      "text/plain": [
       "[1] 0.8016692"
      ]
     },
     "metadata": {},
     "output_type": "display_data"
    },
    {
     "name": "stdout",
     "output_type": "stream",
     "text": [
      "[1] \"Correlation between price and no_full_baths\"\n"
     ]
    },
    {
     "data": {
      "text/html": [
       "0.547710537884014"
      ],
      "text/latex": [
       "0.547710537884014"
      ],
      "text/markdown": [
       "0.547710537884014"
      ],
      "text/plain": [
       "[1] 0.5477105"
      ]
     },
     "metadata": {},
     "output_type": "display_data"
    },
    {
     "name": "stdout",
     "output_type": "stream",
     "text": [
      "[1] \"Correlation between price and walkscore\"\n"
     ]
    },
    {
     "data": {
      "text/html": [
       "0.515048814300662"
      ],
      "text/latex": [
       "0.515048814300662"
      ],
      "text/markdown": [
       "0.515048814300662"
      ],
      "text/plain": [
       "[1] 0.5150488"
      ]
     },
     "metadata": {},
     "output_type": "display_data"
    },
    {
     "data": {
      "image/png": "[encoded data removed]",
      "text/plain": [
       "plot without title"
      ]
     },
     "metadata": {},
     "output_type": "display_data"
    }
   ],
   "source": [
    "#Data exploration used on the report\n",
    "par(mfrow=c(2,2))\n",
    "plot(hoPric$price2014, hoPric$distance,  ylab=\"Distance to the trail\", xlab = \"House prices\", col=\"red\")\n",
    "print(\"Correlation between price and distance\")\n",
    "cor(hoPric$price2014, hoPric$distance)\n",
    "plot(hoPric$price2014, hoPric$squarefeet, ylab=\"Square footage\", xlab = \"House prices\", col=\"green\")\n",
    "print(\"Correlation between price and squarefeet\")\n",
    "cor(hoPric$price2014, hoPric$squarefeet)\n",
    "print(\"Correlation between price and no_full_baths\")\n",
    "plot(hoPric$price2014, hoPric$no_full_baths, ylab=\"Number of full baths\", xlab = \"House prices\", col=\"blue\", ylim=c(1, 5))\n",
    "cor(hoPric$price2014, hoPric$no_full_baths)\n",
    "print(\"Correlation between price and walkscore\")\n",
    "plot(hoPric$price2014, hoPric$walkscore, ylab=\"Walkscore\", xlab = \"House prices\", col=\"brown\")\n",
    "cor(hoPric$price2014, hoPric$walkscore)"
   ]
  },
  {
   "cell_type": "code",
   "execution_count": 48,
   "metadata": {},
   "outputs": [
    {
     "data": {
      "text/html": [
       "-0.370411857804823"
      ],
      "text/latex": [
       "-0.370411857804823"
      ],
      "text/markdown": [
       "-0.370411857804823"
      ],
      "text/plain": [
       "[1] -0.3704119"
      ]
     },
     "metadata": {},
     "output_type": "display_data"
    },
    {
     "data": {
      "text/html": [
       "-0.191224307784635"
      ],
      "text/latex": [
       "-0.191224307784635"
      ],
      "text/markdown": [
       "-0.191224307784635"
      ],
      "text/plain": [
       "[1] -0.1912243"
      ]
     },
     "metadata": {},
     "output_type": "display_data"
    },
    {
     "data": {
      "text/html": [
       "-0.423421695462982"
      ],
      "text/latex": [
       "-0.423421695462982"
      ],
      "text/markdown": [
       "-0.423421695462982"
      ],
      "text/plain": [
       "[1] -0.4234217"
      ]
     },
     "metadata": {},
     "output_type": "display_data"
    },
    {
     "data": {
      "text/html": [
       "-0.760723187151175"
      ],
      "text/latex": [
       "-0.760723187151175"
      ],
      "text/markdown": [
       "-0.760723187151175"
      ],
      "text/plain": [
       "[1] -0.7607232"
      ]
     },
     "metadata": {},
     "output_type": "display_data"
    },
    {
     "data": {
      "image/png": "[encoded data removed]",
      "text/plain": [
       "plot without title"
      ]
     },
     "metadata": {},
     "output_type": "display_data"
    }
   ],
   "source": [
    "par(mfrow=c(2,2))\n",
    "plot(hoPric$distance, hoPric$no_rooms, ylab=\"Number of rooms\", xlab = \"Distance to the trail\", col=\"purple\", ylim=c(3, 15))\n",
    "cor(hoPric$no_rooms, hoPric$distance)\n",
    "\n",
    "plot(hoPric$distance, hoPric$no_full_baths, ylab=\"Number of full baths\", xlab = \"Distance to the trail\", col=\"orange\", ylim=c(1, 5))\n",
    "cor(hoPric$no_full_baths, hoPric$distance)\n",
    "\n",
    "plot(hoPric$distance, hoPric$squarefeet, ylab=\"Square footage\", xlab = \"Distance to the trail\", col=\"red\")\n",
    "cor(hoPric$squarefeet, hoPric$distance)\n",
    "\n",
    "plot(hoPric$distance, hoPric$walkscore, ylab=\"Walkscore\", xlab = \"Distance to the trail\", col=\"blue\", ylim=c(0, 100))\n",
    "cor(hoPric$walkscore, hoPric$distance)"
   ]
  },
  {
   "cell_type": "code",
   "execution_count": 49,
   "metadata": {},
   "outputs": [
    {
     "data": {
      "text/plain": [
       "\n",
       "Call:\n",
       "lm(formula = price2014 ~ distance, data = hoPric)\n",
       "\n",
       "Residuals:\n",
       "    Min      1Q  Median      3Q     Max \n",
       "-202.74  -56.27  -15.91   31.53  551.45 \n",
       "\n",
       "Coefficients:\n",
       "            Estimate Std. Error t value Pr(>|t|)    \n",
       "(Intercept)   352.16      15.18  23.192  < 2e-16 ***\n",
       "distance      -53.01      10.44  -5.079 1.72e-06 ***\n",
       "---\n",
       "Signif. codes:  0 '***' 0.001 '**' 0.01 '*' 0.05 '.' 0.1 ' ' 1\n",
       "\n",
       "Residual standard error: 99.55 on 102 degrees of freedom\n",
       "Multiple R-squared:  0.2018,\tAdjusted R-squared:  0.194 \n",
       "F-statistic: 25.79 on 1 and 102 DF,  p-value: 1.72e-06\n"
      ]
     },
     "metadata": {},
     "output_type": "display_data"
    },
    {
     "data": {
      "image/png": "[encoded data removed]",
      "text/plain": [
       "Plot with title \"Simple linear regression\""
      ]
     },
     "metadata": {},
     "output_type": "display_data"
    }
   ],
   "source": [
    "#Question 1 - simple linear regression  \n",
    "plot(hoPric$distance,hoPric$price2014, pch=20,cex=1.3, col=\"red\", main= \"Simple linear regression\", ylab=\"House prices\", xlab=\"Distance to the trail\") #forma bolas\n",
    "#Fit a simple linear regression and to minimise the residual sum of squares\n",
    "model1=lm(price2014 ~ distance, data=hoPric)\n",
    "summary(model1)\n",
    "lines(hoPric$distance, fitted(model1))"
   ]
  },
  {
   "cell_type": "code",
   "execution_count": 50,
   "metadata": {
    "collapsed": true
   },
   "outputs": [],
   "source": [
    "#It can be interpreted, therefore, that for every increase of a mile in distance to the trail, there is a corresponding \n",
    "#decrease of 53.01 thousand dollars in the houses prices."
   ]
  },
  {
   "cell_type": "code",
   "execution_count": 51,
   "metadata": {},
   "outputs": [
    {
     "data": {
      "text/plain": [
       "\n",
       "Call:\n",
       "lm(formula = price2014 ~ acre + bedgroup + bikescore + distance + \n",
       "    garage_spaces + no_full_baths + no_half_baths + no_rooms + \n",
       "    squarefeet + walkscore + zipF, data = hoPric)\n",
       "\n",
       "Residuals:\n",
       "     Min       1Q   Median       3Q      Max \n",
       "-163.646  -32.505   -0.563   26.937  283.909 \n",
       "\n",
       "Coefficients:\n",
       "                Estimate Std. Error t value Pr(>|t|)   \n",
       "(Intercept)      85.9656    56.0872   1.533  0.12882   \n",
       "acre            -37.6408    62.3184  -0.604  0.54734   \n",
       "bedgroup3 beds   11.6855    20.0657   0.582  0.56176   \n",
       "bedgroup4+ beds -10.9302    25.2252  -0.433  0.66582   \n",
       "bikescore        -1.6153     0.9549  -1.692  0.09416 . \n",
       "distance         -7.9235    12.3622  -0.641  0.52317   \n",
       "garage_spaces    15.7704     8.2838   1.904  0.06010 . \n",
       "no_full_baths    41.5999    13.0814   3.180  0.00201 **\n",
       "no_half_baths    16.7968    17.0457   0.985  0.32704   \n",
       "no_rooms          9.0681     8.3055   1.092  0.27780   \n",
       "squarefeet       86.9879    26.6944   3.259  0.00157 **\n",
       "walkscore         1.7077     0.6679   2.557  0.01222 * \n",
       "zipF1062        -38.5635    17.6273  -2.188  0.03125 * \n",
       "---\n",
       "Signif. codes:  0 '***' 0.001 '**' 0.01 '*' 0.05 '.' 0.1 ' ' 1\n",
       "\n",
       "Residual standard error: 60.91 on 91 degrees of freedom\n",
       "Multiple R-squared:  0.7334,\tAdjusted R-squared:  0.6982 \n",
       "F-statistic: 20.86 on 12 and 91 DF,  p-value: < 2.2e-16\n"
      ]
     },
     "metadata": {},
     "output_type": "display_data"
    }
   ],
   "source": [
    "#Question 2 - Multiple linear regression\n",
    "hoPric$zipF <- factor(hoPric$zip)\n",
    "#hoPric$zipF2 <- factor(c(1,2), lab = c(\"1060\", \"1062\"))\n",
    "reg1 <- lm(price2014 ~ acre + bedgroup + bikescore + distance + garage_spaces \n",
    "           + no_full_baths + no_half_baths + no_rooms + squarefeet + walkscore   \n",
    "           + zipF , data = hoPric)\n",
    "summary(reg1)\n"
   ]
  },
  {
   "cell_type": "code",
   "execution_count": 52,
   "metadata": {
    "collapsed": true
   },
   "outputs": [],
   "source": [
    "#It can be seen in the Figure 4 that the variables no_full_baths and squarefeet are significant (p<0.01) and they are \n",
    "#followed by walkscore and zip (p<0.05).  The other variables are not significant in this model. The R-squared of the variance \n",
    "#indicates 73.34% of variance, so it could be assumed that each variable would explain around 6,11% of variance. \n",
    "\n",
    "#The estimated regression coefficient of squarefeet is 86.98 and it indicates that if all other independent variables are \n",
    "#kept constant, then increase in one square feet of interior space in the house is associated with an increase of 86.98 \n",
    "#thousand of dollars in the houses prices.\n",
    "\n",
    "#Additionally, the estimated regression coefficient of no_full_bath is 41.59 and it indicates that if all other independent\n",
    "#variables are held constant, then increase in one full bathroom is associated with an increase of 41.59 thousand of dollars\n",
    "#in the houses prices."
   ]
  },
  {
   "cell_type": "code",
   "execution_count": 53,
   "metadata": {},
   "outputs": [
    {
     "data": {
      "text/html": [
       "<table>\n",
       "<thead><tr><th></th><th scope=col>Sum Sq</th><th scope=col>Df</th><th scope=col>F value</th><th scope=col>Pr(&gt;F)</th></tr></thead>\n",
       "<tbody>\n",
       "\t<tr><th scope=row>acre</th><td>  1353.726 </td><td> 1         </td><td> 0.3648253 </td><td>0.547341342</td></tr>\n",
       "\t<tr><th scope=row>bedgroup</th><td>  7633.530 </td><td> 2         </td><td> 1.0286072 </td><td>0.361623085</td></tr>\n",
       "\t<tr><th scope=row>bikescore</th><td> 10616.925 </td><td> 1         </td><td> 2.8612310 </td><td>0.094160052</td></tr>\n",
       "\t<tr><th scope=row>distance</th><td>  1524.346 </td><td> 1         </td><td> 0.4108068 </td><td>0.523171181</td></tr>\n",
       "\t<tr><th scope=row>garage_spaces</th><td> 13448.485 </td><td> 1         </td><td> 3.6243281 </td><td>0.060100667</td></tr>\n",
       "\t<tr><th scope=row>no_full_baths</th><td> 37525.127 </td><td> 1         </td><td>10.1129144 </td><td>0.002013323</td></tr>\n",
       "\t<tr><th scope=row>no_half_baths</th><td>  3603.070 </td><td> 1         </td><td> 0.9710170 </td><td>0.327039453</td></tr>\n",
       "\t<tr><th scope=row>no_rooms</th><td>  4423.298 </td><td> 1         </td><td> 1.1920661 </td><td>0.277795435</td></tr>\n",
       "\t<tr><th scope=row>squarefeet</th><td> 39402.328 </td><td> 1         </td><td>10.6188146 </td><td>0.001574719</td></tr>\n",
       "\t<tr><th scope=row>walkscore</th><td> 24256.255 </td><td> 1         </td><td> 6.5369913 </td><td>0.012221287</td></tr>\n",
       "\t<tr><th scope=row>zipF</th><td> 17759.270 </td><td> 1         </td><td> 4.7860725 </td><td>0.031253027</td></tr>\n",
       "\t<tr><th scope=row>Residuals</th><td>337665.923 </td><td>91         </td><td>        NA </td><td>         NA</td></tr>\n",
       "</tbody>\n",
       "</table>\n"
      ],
      "text/latex": [
       "\\begin{tabular}{r|llll}\n",
       "  & Sum Sq & Df & F value & Pr(>F)\\\\\n",
       "\\hline\n",
       "\tacre &   1353.726  &  1          &  0.3648253  & 0.547341342\\\\\n",
       "\tbedgroup &   7633.530  &  2          &  1.0286072  & 0.361623085\\\\\n",
       "\tbikescore &  10616.925  &  1          &  2.8612310  & 0.094160052\\\\\n",
       "\tdistance &   1524.346  &  1          &  0.4108068  & 0.523171181\\\\\n",
       "\tgarage\\_spaces &  13448.485  &  1          &  3.6243281  & 0.060100667\\\\\n",
       "\tno\\_full\\_baths &  37525.127  &  1          & 10.1129144  & 0.002013323\\\\\n",
       "\tno\\_half\\_baths &   3603.070  &  1          &  0.9710170  & 0.327039453\\\\\n",
       "\tno\\_rooms &   4423.298  &  1          &  1.1920661  & 0.277795435\\\\\n",
       "\tsquarefeet &  39402.328  &  1          & 10.6188146  & 0.001574719\\\\\n",
       "\twalkscore &  24256.255  &  1          &  6.5369913  & 0.012221287\\\\\n",
       "\tzipF &  17759.270  &  1          &  4.7860725  & 0.031253027\\\\\n",
       "\tResiduals & 337665.923  & 91          &         NA  &          NA\\\\\n",
       "\\end{tabular}\n"
      ],
      "text/markdown": [
       "\n",
       "| <!--/--> | Sum Sq | Df | F value | Pr(>F) | \n",
       "|---|---|---|---|---|---|---|---|---|---|---|---|\n",
       "| acre |   1353.726  |  1          |  0.3648253  | 0.547341342 | \n",
       "| bedgroup |   7633.530  |  2          |  1.0286072  | 0.361623085 | \n",
       "| bikescore |  10616.925  |  1          |  2.8612310  | 0.094160052 | \n",
       "| distance |   1524.346  |  1          |  0.4108068  | 0.523171181 | \n",
       "| garage_spaces |  13448.485  |  1          |  3.6243281  | 0.060100667 | \n",
       "| no_full_baths |  37525.127  |  1          | 10.1129144  | 0.002013323 | \n",
       "| no_half_baths |   3603.070  |  1          |  0.9710170  | 0.327039453 | \n",
       "| no_rooms |   4423.298  |  1          |  1.1920661  | 0.277795435 | \n",
       "| squarefeet |  39402.328  |  1          | 10.6188146  | 0.001574719 | \n",
       "| walkscore |  24256.255  |  1          |  6.5369913  | 0.012221287 | \n",
       "| zipF |  17759.270  |  1          |  4.7860725  | 0.031253027 | \n",
       "| Residuals | 337665.923  | 91          |         NA  |          NA | \n",
       "\n",
       "\n"
      ],
      "text/plain": [
       "              Sum Sq     Df F value    Pr(>F)     \n",
       "acre            1353.726  1  0.3648253 0.547341342\n",
       "bedgroup        7633.530  2  1.0286072 0.361623085\n",
       "bikescore      10616.925  1  2.8612310 0.094160052\n",
       "distance        1524.346  1  0.4108068 0.523171181\n",
       "garage_spaces  13448.485  1  3.6243281 0.060100667\n",
       "no_full_baths  37525.127  1 10.1129144 0.002013323\n",
       "no_half_baths   3603.070  1  0.9710170 0.327039453\n",
       "no_rooms        4423.298  1  1.1920661 0.277795435\n",
       "squarefeet     39402.328  1 10.6188146 0.001574719\n",
       "walkscore      24256.255  1  6.5369913 0.012221287\n",
       "zipF           17759.270  1  4.7860725 0.031253027\n",
       "Residuals     337665.923 91         NA          NA"
      ]
     },
     "metadata": {},
     "output_type": "display_data"
    }
   ],
   "source": [
    "#Question 3 - Carry out a backwards elimination from this model, removing terms one at a time until all non-significant \n",
    "#terms have been removed from the model. You should use Anova() in library car at each step to determine the least important\n",
    "#variable to remove at each step.  \n",
    "#Step #1\n",
    "rega1 <- lm(price2014 ~ acre + bedgroup + bikescore + distance + garage_spaces + no_full_baths + no_half_baths + no_rooms + squarefeet + walkscore   \n",
    "           + zipF , data = hoPric)\n",
    "Anova(rega1)#all variables"
   ]
  },
  {
   "cell_type": "code",
   "execution_count": 54,
   "metadata": {},
   "outputs": [
    {
     "data": {
      "text/html": [
       "<table>\n",
       "<thead><tr><th></th><th scope=col>Sum Sq</th><th scope=col>Df</th><th scope=col>F value</th><th scope=col>Pr(&gt;F)</th></tr></thead>\n",
       "<tbody>\n",
       "\t<tr><th scope=row>bedgroup</th><td>  6928.316 </td><td> 2         </td><td> 0.9400710 </td><td>0.394319361</td></tr>\n",
       "\t<tr><th scope=row>bikescore</th><td> 10504.562 </td><td> 1         </td><td> 2.8506303 </td><td>0.094725201</td></tr>\n",
       "\t<tr><th scope=row>distance</th><td>  1554.154 </td><td> 1         </td><td> 0.4217518 </td><td>0.517682344</td></tr>\n",
       "\t<tr><th scope=row>garage_spaces</th><td> 13023.077 </td><td> 1         </td><td> 3.5340815 </td><td>0.063284088</td></tr>\n",
       "\t<tr><th scope=row>no_full_baths</th><td> 37617.698 </td><td> 1         </td><td>10.2083411 </td><td>0.001915637</td></tr>\n",
       "\t<tr><th scope=row>no_half_baths</th><td>  3286.052 </td><td> 1         </td><td> 0.8917383 </td><td>0.347480093</td></tr>\n",
       "\t<tr><th scope=row>no_rooms</th><td>  3744.620 </td><td> 1         </td><td> 1.0161800 </td><td>0.316070803</td></tr>\n",
       "\t<tr><th scope=row>squarefeet</th><td> 39069.725 </td><td> 1         </td><td>10.6023788 </td><td>0.001581825</td></tr>\n",
       "\t<tr><th scope=row>walkscore</th><td> 24787.830 </td><td> 1         </td><td> 6.7266907 </td><td>0.011050600</td></tr>\n",
       "\t<tr><th scope=row>zipF</th><td> 28017.514 </td><td> 1         </td><td> 7.6031325 </td><td>0.007027479</td></tr>\n",
       "\t<tr><th scope=row>Residuals</th><td>339019.650 </td><td>92         </td><td>        NA </td><td>         NA</td></tr>\n",
       "</tbody>\n",
       "</table>\n"
      ],
      "text/latex": [
       "\\begin{tabular}{r|llll}\n",
       "  & Sum Sq & Df & F value & Pr(>F)\\\\\n",
       "\\hline\n",
       "\tbedgroup &   6928.316  &  2          &  0.9400710  & 0.394319361\\\\\n",
       "\tbikescore &  10504.562  &  1          &  2.8506303  & 0.094725201\\\\\n",
       "\tdistance &   1554.154  &  1          &  0.4217518  & 0.517682344\\\\\n",
       "\tgarage\\_spaces &  13023.077  &  1          &  3.5340815  & 0.063284088\\\\\n",
       "\tno\\_full\\_baths &  37617.698  &  1          & 10.2083411  & 0.001915637\\\\\n",
       "\tno\\_half\\_baths &   3286.052  &  1          &  0.8917383  & 0.347480093\\\\\n",
       "\tno\\_rooms &   3744.620  &  1          &  1.0161800  & 0.316070803\\\\\n",
       "\tsquarefeet &  39069.725  &  1          & 10.6023788  & 0.001581825\\\\\n",
       "\twalkscore &  24787.830  &  1          &  6.7266907  & 0.011050600\\\\\n",
       "\tzipF &  28017.514  &  1          &  7.6031325  & 0.007027479\\\\\n",
       "\tResiduals & 339019.650  & 92          &         NA  &          NA\\\\\n",
       "\\end{tabular}\n"
      ],
      "text/markdown": [
       "\n",
       "| <!--/--> | Sum Sq | Df | F value | Pr(>F) | \n",
       "|---|---|---|---|---|---|---|---|---|---|---|\n",
       "| bedgroup |   6928.316  |  2          |  0.9400710  | 0.394319361 | \n",
       "| bikescore |  10504.562  |  1          |  2.8506303  | 0.094725201 | \n",
       "| distance |   1554.154  |  1          |  0.4217518  | 0.517682344 | \n",
       "| garage_spaces |  13023.077  |  1          |  3.5340815  | 0.063284088 | \n",
       "| no_full_baths |  37617.698  |  1          | 10.2083411  | 0.001915637 | \n",
       "| no_half_baths |   3286.052  |  1          |  0.8917383  | 0.347480093 | \n",
       "| no_rooms |   3744.620  |  1          |  1.0161800  | 0.316070803 | \n",
       "| squarefeet |  39069.725  |  1          | 10.6023788  | 0.001581825 | \n",
       "| walkscore |  24787.830  |  1          |  6.7266907  | 0.011050600 | \n",
       "| zipF |  28017.514  |  1          |  7.6031325  | 0.007027479 | \n",
       "| Residuals | 339019.650  | 92          |         NA  |          NA | \n",
       "\n",
       "\n"
      ],
      "text/plain": [
       "              Sum Sq     Df F value    Pr(>F)     \n",
       "bedgroup        6928.316  2  0.9400710 0.394319361\n",
       "bikescore      10504.562  1  2.8506303 0.094725201\n",
       "distance        1554.154  1  0.4217518 0.517682344\n",
       "garage_spaces  13023.077  1  3.5340815 0.063284088\n",
       "no_full_baths  37617.698  1 10.2083411 0.001915637\n",
       "no_half_baths   3286.052  1  0.8917383 0.347480093\n",
       "no_rooms        3744.620  1  1.0161800 0.316070803\n",
       "squarefeet     39069.725  1 10.6023788 0.001581825\n",
       "walkscore      24787.830  1  6.7266907 0.011050600\n",
       "zipF           28017.514  1  7.6031325 0.007027479\n",
       "Residuals     339019.650 92         NA          NA"
      ]
     },
     "metadata": {},
     "output_type": "display_data"
    }
   ],
   "source": [
    "#Step #2 without acre\n",
    "rega2 <- lm(price2014 ~ bedgroup + bikescore + distance + garage_spaces + no_full_baths + no_half_baths + no_rooms + squarefeet + walkscore   \n",
    "            + zipF , data = hoPric)\n",
    "Anova(rega2)#without acre"
   ]
  },
  {
   "cell_type": "code",
   "execution_count": 55,
   "metadata": {},
   "outputs": [
    {
     "data": {
      "text/html": [
       "<table>\n",
       "<thead><tr><th></th><th scope=col>Sum Sq</th><th scope=col>Df</th><th scope=col>F value</th><th scope=col>Pr(&gt;F)</th></tr></thead>\n",
       "<tbody>\n",
       "\t<tr><th scope=row>bedgroup</th><td>  6364.022 </td><td> 2         </td><td> 0.8689072 </td><td>0.422786186</td></tr>\n",
       "\t<tr><th scope=row>bikescore</th><td>  9368.969 </td><td> 1         </td><td> 2.5583708 </td><td>0.113103536</td></tr>\n",
       "\t<tr><th scope=row>garage_spaces</th><td> 12507.856 </td><td> 1         </td><td> 3.4155023 </td><td>0.067764884</td></tr>\n",
       "\t<tr><th scope=row>no_full_baths</th><td> 37090.412 </td><td> 1         </td><td>10.1282256 </td><td>0.001985767</td></tr>\n",
       "\t<tr><th scope=row>no_half_baths</th><td>  3729.430 </td><td> 1         </td><td> 1.0183901 </td><td>0.315519604</td></tr>\n",
       "\t<tr><th scope=row>no_rooms</th><td>  3030.535 </td><td> 1         </td><td> 0.8275438 </td><td>0.365335355</td></tr>\n",
       "\t<tr><th scope=row>squarefeet</th><td> 43145.950 </td><td> 1         </td><td>11.7818028 </td><td>0.000894457</td></tr>\n",
       "\t<tr><th scope=row>walkscore</th><td> 23852.384 </td><td> 1         </td><td> 6.5133362 </td><td>0.012336821</td></tr>\n",
       "\t<tr><th scope=row>zipF</th><td> 26464.118 </td><td> 1         </td><td> 7.2265186 </td><td>0.008512188</td></tr>\n",
       "\t<tr><th scope=row>Residuals</th><td>340573.803 </td><td>93         </td><td>        NA </td><td>         NA</td></tr>\n",
       "</tbody>\n",
       "</table>\n"
      ],
      "text/latex": [
       "\\begin{tabular}{r|llll}\n",
       "  & Sum Sq & Df & F value & Pr(>F)\\\\\n",
       "\\hline\n",
       "\tbedgroup &   6364.022  &  2          &  0.8689072  & 0.422786186\\\\\n",
       "\tbikescore &   9368.969  &  1          &  2.5583708  & 0.113103536\\\\\n",
       "\tgarage\\_spaces &  12507.856  &  1          &  3.4155023  & 0.067764884\\\\\n",
       "\tno\\_full\\_baths &  37090.412  &  1          & 10.1282256  & 0.001985767\\\\\n",
       "\tno\\_half\\_baths &   3729.430  &  1          &  1.0183901  & 0.315519604\\\\\n",
       "\tno\\_rooms &   3030.535  &  1          &  0.8275438  & 0.365335355\\\\\n",
       "\tsquarefeet &  43145.950  &  1          & 11.7818028  & 0.000894457\\\\\n",
       "\twalkscore &  23852.384  &  1          &  6.5133362  & 0.012336821\\\\\n",
       "\tzipF &  26464.118  &  1          &  7.2265186  & 0.008512188\\\\\n",
       "\tResiduals & 340573.803  & 93          &         NA  &          NA\\\\\n",
       "\\end{tabular}\n"
      ],
      "text/markdown": [
       "\n",
       "| <!--/--> | Sum Sq | Df | F value | Pr(>F) | \n",
       "|---|---|---|---|---|---|---|---|---|---|\n",
       "| bedgroup |   6364.022  |  2          |  0.8689072  | 0.422786186 | \n",
       "| bikescore |   9368.969  |  1          |  2.5583708  | 0.113103536 | \n",
       "| garage_spaces |  12507.856  |  1          |  3.4155023  | 0.067764884 | \n",
       "| no_full_baths |  37090.412  |  1          | 10.1282256  | 0.001985767 | \n",
       "| no_half_baths |   3729.430  |  1          |  1.0183901  | 0.315519604 | \n",
       "| no_rooms |   3030.535  |  1          |  0.8275438  | 0.365335355 | \n",
       "| squarefeet |  43145.950  |  1          | 11.7818028  | 0.000894457 | \n",
       "| walkscore |  23852.384  |  1          |  6.5133362  | 0.012336821 | \n",
       "| zipF |  26464.118  |  1          |  7.2265186  | 0.008512188 | \n",
       "| Residuals | 340573.803  | 93          |         NA  |          NA | \n",
       "\n",
       "\n"
      ],
      "text/plain": [
       "              Sum Sq     Df F value    Pr(>F)     \n",
       "bedgroup        6364.022  2  0.8689072 0.422786186\n",
       "bikescore       9368.969  1  2.5583708 0.113103536\n",
       "garage_spaces  12507.856  1  3.4155023 0.067764884\n",
       "no_full_baths  37090.412  1 10.1282256 0.001985767\n",
       "no_half_baths   3729.430  1  1.0183901 0.315519604\n",
       "no_rooms        3030.535  1  0.8275438 0.365335355\n",
       "squarefeet     43145.950  1 11.7818028 0.000894457\n",
       "walkscore      23852.384  1  6.5133362 0.012336821\n",
       "zipF           26464.118  1  7.2265186 0.008512188\n",
       "Residuals     340573.803 93         NA          NA"
      ]
     },
     "metadata": {},
     "output_type": "display_data"
    }
   ],
   "source": [
    "#Step #3 without distance\n",
    "rega3 <- lm(price2014 ~ bedgroup + bikescore + garage_spaces + no_full_baths + no_half_baths + no_rooms + squarefeet + walkscore   \n",
    "            + zipF , data = hoPric)\n",
    "Anova(rega3)#without distance"
   ]
  },
  {
   "cell_type": "code",
   "execution_count": 56,
   "metadata": {},
   "outputs": [
    {
     "data": {
      "text/html": [
       "<table>\n",
       "<thead><tr><th></th><th scope=col>Sum Sq</th><th scope=col>Df</th><th scope=col>F value</th><th scope=col>Pr(&gt;F)</th></tr></thead>\n",
       "<tbody>\n",
       "\t<tr><th scope=row>bikescore</th><td>  8750.051 </td><td> 1         </td><td> 2.395976  </td><td>0.124972770</td></tr>\n",
       "\t<tr><th scope=row>garage_spaces</th><td> 13677.506 </td><td> 1         </td><td> 3.745233  </td><td>0.055932265</td></tr>\n",
       "\t<tr><th scope=row>no_full_baths</th><td> 35525.316 </td><td> 1         </td><td> 9.727694  </td><td>0.002403002</td></tr>\n",
       "\t<tr><th scope=row>no_half_baths</th><td>  5918.513 </td><td> 1         </td><td> 1.620632  </td><td>0.206110118</td></tr>\n",
       "\t<tr><th scope=row>no_rooms</th><td>  3755.566 </td><td> 1         </td><td> 1.028365  </td><td>0.313118773</td></tr>\n",
       "\t<tr><th scope=row>squarefeet</th><td> 37977.663 </td><td> 1         </td><td>10.399206  </td><td>0.001728988</td></tr>\n",
       "\t<tr><th scope=row>walkscore</th><td> 22813.791 </td><td> 1         </td><td> 6.246970  </td><td>0.014156115</td></tr>\n",
       "\t<tr><th scope=row>zipF</th><td> 26511.699 </td><td> 1         </td><td> 7.259547  </td><td>0.008339654</td></tr>\n",
       "\t<tr><th scope=row>Residuals</th><td>346937.826 </td><td>95         </td><td>       NA  </td><td>         NA</td></tr>\n",
       "</tbody>\n",
       "</table>\n"
      ],
      "text/latex": [
       "\\begin{tabular}{r|llll}\n",
       "  & Sum Sq & Df & F value & Pr(>F)\\\\\n",
       "\\hline\n",
       "\tbikescore &   8750.051  &  1          &  2.395976   & 0.124972770\\\\\n",
       "\tgarage\\_spaces &  13677.506  &  1          &  3.745233   & 0.055932265\\\\\n",
       "\tno\\_full\\_baths &  35525.316  &  1          &  9.727694   & 0.002403002\\\\\n",
       "\tno\\_half\\_baths &   5918.513  &  1          &  1.620632   & 0.206110118\\\\\n",
       "\tno\\_rooms &   3755.566  &  1          &  1.028365   & 0.313118773\\\\\n",
       "\tsquarefeet &  37977.663  &  1          & 10.399206   & 0.001728988\\\\\n",
       "\twalkscore &  22813.791  &  1          &  6.246970   & 0.014156115\\\\\n",
       "\tzipF &  26511.699  &  1          &  7.259547   & 0.008339654\\\\\n",
       "\tResiduals & 346937.826  & 95          &        NA   &          NA\\\\\n",
       "\\end{tabular}\n"
      ],
      "text/markdown": [
       "\n",
       "| <!--/--> | Sum Sq | Df | F value | Pr(>F) | \n",
       "|---|---|---|---|---|---|---|---|---|\n",
       "| bikescore |   8750.051  |  1          |  2.395976   | 0.124972770 | \n",
       "| garage_spaces |  13677.506  |  1          |  3.745233   | 0.055932265 | \n",
       "| no_full_baths |  35525.316  |  1          |  9.727694   | 0.002403002 | \n",
       "| no_half_baths |   5918.513  |  1          |  1.620632   | 0.206110118 | \n",
       "| no_rooms |   3755.566  |  1          |  1.028365   | 0.313118773 | \n",
       "| squarefeet |  37977.663  |  1          | 10.399206   | 0.001728988 | \n",
       "| walkscore |  22813.791  |  1          |  6.246970   | 0.014156115 | \n",
       "| zipF |  26511.699  |  1          |  7.259547   | 0.008339654 | \n",
       "| Residuals | 346937.826  | 95          |        NA   |          NA | \n",
       "\n",
       "\n"
      ],
      "text/plain": [
       "              Sum Sq     Df F value   Pr(>F)     \n",
       "bikescore       8750.051  1  2.395976 0.124972770\n",
       "garage_spaces  13677.506  1  3.745233 0.055932265\n",
       "no_full_baths  35525.316  1  9.727694 0.002403002\n",
       "no_half_baths   5918.513  1  1.620632 0.206110118\n",
       "no_rooms        3755.566  1  1.028365 0.313118773\n",
       "squarefeet     37977.663  1 10.399206 0.001728988\n",
       "walkscore      22813.791  1  6.246970 0.014156115\n",
       "zipF           26511.699  1  7.259547 0.008339654\n",
       "Residuals     346937.826 95        NA          NA"
      ]
     },
     "metadata": {},
     "output_type": "display_data"
    }
   ],
   "source": [
    "#Step #4 without bedgroup \n",
    "rega4 <- lm(price2014 ~ bikescore + garage_spaces + no_full_baths + no_half_baths + no_rooms + squarefeet + walkscore   \n",
    "            + zipF , data = hoPric)\n",
    "Anova(rega4)#without bedgroup"
   ]
  },
  {
   "cell_type": "code",
   "execution_count": 57,
   "metadata": {},
   "outputs": [
    {
     "data": {
      "text/html": [
       "<table>\n",
       "<thead><tr><th></th><th scope=col>Sum Sq</th><th scope=col>Df</th><th scope=col>F value</th><th scope=col>Pr(&gt;F)</th></tr></thead>\n",
       "<tbody>\n",
       "\t<tr><th scope=row>bikescore</th><td>  8917.68   </td><td> 1          </td><td> 2.441156   </td><td>1.214797e-01</td></tr>\n",
       "\t<tr><th scope=row>garage_spaces</th><td> 11593.08   </td><td> 1          </td><td> 3.173529   </td><td>7.800298e-02</td></tr>\n",
       "\t<tr><th scope=row>no_full_baths</th><td> 35175.50   </td><td> 1          </td><td> 9.629061   </td><td>2.516022e-03</td></tr>\n",
       "\t<tr><th scope=row>no_half_baths</th><td>  5242.38   </td><td> 1          </td><td> 1.435067   </td><td>2.338885e-01</td></tr>\n",
       "\t<tr><th scope=row>squarefeet</th><td>132736.42   </td><td> 1          </td><td>36.335719   </td><td>3.074984e-08</td></tr>\n",
       "\t<tr><th scope=row>walkscore</th><td> 25395.67   </td><td> 1          </td><td> 6.951897   </td><td>9.766210e-03</td></tr>\n",
       "\t<tr><th scope=row>zipF</th><td> 24023.57   </td><td> 1          </td><td> 6.576294   </td><td>1.188481e-02</td></tr>\n",
       "\t<tr><th scope=row>Residuals</th><td>350693.39   </td><td>96          </td><td>       NA   </td><td>          NA</td></tr>\n",
       "</tbody>\n",
       "</table>\n"
      ],
      "text/latex": [
       "\\begin{tabular}{r|llll}\n",
       "  & Sum Sq & Df & F value & Pr(>F)\\\\\n",
       "\\hline\n",
       "\tbikescore &   8917.68    &  1           &  2.441156    & 1.214797e-01\\\\\n",
       "\tgarage\\_spaces &  11593.08    &  1           &  3.173529    & 7.800298e-02\\\\\n",
       "\tno\\_full\\_baths &  35175.50    &  1           &  9.629061    & 2.516022e-03\\\\\n",
       "\tno\\_half\\_baths &   5242.38    &  1           &  1.435067    & 2.338885e-01\\\\\n",
       "\tsquarefeet & 132736.42    &  1           & 36.335719    & 3.074984e-08\\\\\n",
       "\twalkscore &  25395.67    &  1           &  6.951897    & 9.766210e-03\\\\\n",
       "\tzipF &  24023.57    &  1           &  6.576294    & 1.188481e-02\\\\\n",
       "\tResiduals & 350693.39    & 96           &        NA    &           NA\\\\\n",
       "\\end{tabular}\n"
      ],
      "text/markdown": [
       "\n",
       "| <!--/--> | Sum Sq | Df | F value | Pr(>F) | \n",
       "|---|---|---|---|---|---|---|---|\n",
       "| bikescore |   8917.68    |  1           |  2.441156    | 1.214797e-01 | \n",
       "| garage_spaces |  11593.08    |  1           |  3.173529    | 7.800298e-02 | \n",
       "| no_full_baths |  35175.50    |  1           |  9.629061    | 2.516022e-03 | \n",
       "| no_half_baths |   5242.38    |  1           |  1.435067    | 2.338885e-01 | \n",
       "| squarefeet | 132736.42    |  1           | 36.335719    | 3.074984e-08 | \n",
       "| walkscore |  25395.67    |  1           |  6.951897    | 9.766210e-03 | \n",
       "| zipF |  24023.57    |  1           |  6.576294    | 1.188481e-02 | \n",
       "| Residuals | 350693.39    | 96           |        NA    |           NA | \n",
       "\n",
       "\n"
      ],
      "text/plain": [
       "              Sum Sq    Df F value   Pr(>F)      \n",
       "bikescore       8917.68  1  2.441156 1.214797e-01\n",
       "garage_spaces  11593.08  1  3.173529 7.800298e-02\n",
       "no_full_baths  35175.50  1  9.629061 2.516022e-03\n",
       "no_half_baths   5242.38  1  1.435067 2.338885e-01\n",
       "squarefeet    132736.42  1 36.335719 3.074984e-08\n",
       "walkscore      25395.67  1  6.951897 9.766210e-03\n",
       "zipF           24023.57  1  6.576294 1.188481e-02\n",
       "Residuals     350693.39 96        NA           NA"
      ]
     },
     "metadata": {},
     "output_type": "display_data"
    }
   ],
   "source": [
    "#Step #5 without no_rooms \n",
    "rega5 <- lm(price2014 ~ bikescore + garage_spaces + no_full_baths + no_half_baths + squarefeet + walkscore   \n",
    "            + zipF , data = hoPric)\n",
    "Anova(rega5)#without no_rooms "
   ]
  },
  {
   "cell_type": "code",
   "execution_count": 58,
   "metadata": {},
   "outputs": [
    {
     "data": {
      "text/html": [
       "<table>\n",
       "<thead><tr><th></th><th scope=col>Sum Sq</th><th scope=col>Df</th><th scope=col>F value</th><th scope=col>Pr(&gt;F)</th></tr></thead>\n",
       "<tbody>\n",
       "\t<tr><th scope=row>bikescore</th><td>  8256.941  </td><td> 1          </td><td> 2.250191   </td><td>1.368459e-01</td></tr>\n",
       "\t<tr><th scope=row>garage_spaces</th><td> 12053.606  </td><td> 1          </td><td> 3.284862   </td><td>7.301510e-02</td></tr>\n",
       "\t<tr><th scope=row>no_full_baths</th><td> 29949.457  </td><td> 1          </td><td> 8.161858   </td><td>5.234516e-03</td></tr>\n",
       "\t<tr><th scope=row>squarefeet</th><td>183375.438  </td><td> 1          </td><td>49.973672   </td><td>2.403557e-10</td></tr>\n",
       "\t<tr><th scope=row>walkscore</th><td> 24259.225  </td><td> 1          </td><td> 6.611150   </td><td>1.165313e-02</td></tr>\n",
       "\t<tr><th scope=row>zipF</th><td> 22464.041  </td><td> 1          </td><td> 6.121925   </td><td>1.508823e-02</td></tr>\n",
       "\t<tr><th scope=row>Residuals</th><td>355935.772  </td><td>97          </td><td>       NA   </td><td>          NA</td></tr>\n",
       "</tbody>\n",
       "</table>\n"
      ],
      "text/latex": [
       "\\begin{tabular}{r|llll}\n",
       "  & Sum Sq & Df & F value & Pr(>F)\\\\\n",
       "\\hline\n",
       "\tbikescore &   8256.941   &  1           &  2.250191    & 1.368459e-01\\\\\n",
       "\tgarage\\_spaces &  12053.606   &  1           &  3.284862    & 7.301510e-02\\\\\n",
       "\tno\\_full\\_baths &  29949.457   &  1           &  8.161858    & 5.234516e-03\\\\\n",
       "\tsquarefeet & 183375.438   &  1           & 49.973672    & 2.403557e-10\\\\\n",
       "\twalkscore &  24259.225   &  1           &  6.611150    & 1.165313e-02\\\\\n",
       "\tzipF &  22464.041   &  1           &  6.121925    & 1.508823e-02\\\\\n",
       "\tResiduals & 355935.772   & 97           &        NA    &           NA\\\\\n",
       "\\end{tabular}\n"
      ],
      "text/markdown": [
       "\n",
       "| <!--/--> | Sum Sq | Df | F value | Pr(>F) | \n",
       "|---|---|---|---|---|---|---|\n",
       "| bikescore |   8256.941   |  1           |  2.250191    | 1.368459e-01 | \n",
       "| garage_spaces |  12053.606   |  1           |  3.284862    | 7.301510e-02 | \n",
       "| no_full_baths |  29949.457   |  1           |  8.161858    | 5.234516e-03 | \n",
       "| squarefeet | 183375.438   |  1           | 49.973672    | 2.403557e-10 | \n",
       "| walkscore |  24259.225   |  1           |  6.611150    | 1.165313e-02 | \n",
       "| zipF |  22464.041   |  1           |  6.121925    | 1.508823e-02 | \n",
       "| Residuals | 355935.772   | 97           |        NA    |           NA | \n",
       "\n",
       "\n"
      ],
      "text/plain": [
       "              Sum Sq     Df F value   Pr(>F)      \n",
       "bikescore       8256.941  1  2.250191 1.368459e-01\n",
       "garage_spaces  12053.606  1  3.284862 7.301510e-02\n",
       "no_full_baths  29949.457  1  8.161858 5.234516e-03\n",
       "squarefeet    183375.438  1 49.973672 2.403557e-10\n",
       "walkscore      24259.225  1  6.611150 1.165313e-02\n",
       "zipF           22464.041  1  6.121925 1.508823e-02\n",
       "Residuals     355935.772 97        NA           NA"
      ]
     },
     "metadata": {},
     "output_type": "display_data"
    }
   ],
   "source": [
    "#Step #6 without no_half_baths\n",
    "rega6 <- lm(price2014 ~ bikescore + garage_spaces + no_full_baths + squarefeet + walkscore   \n",
    "            + zipF , data = hoPric)\n",
    "Anova(rega6)#without no_half_baths "
   ]
  },
  {
   "cell_type": "code",
   "execution_count": 59,
   "metadata": {},
   "outputs": [
    {
     "data": {
      "text/html": [
       "<table>\n",
       "<thead><tr><th></th><th scope=col>Sum Sq</th><th scope=col>Df</th><th scope=col>F value</th><th scope=col>Pr(&gt;F)</th></tr></thead>\n",
       "<tbody>\n",
       "\t<tr><th scope=row>garage_spaces</th><td>  8041.665  </td><td> 1          </td><td> 2.163918   </td><td>1.444878e-01</td></tr>\n",
       "\t<tr><th scope=row>no_full_baths</th><td> 26410.688  </td><td> 1          </td><td> 7.106807   </td><td>8.982884e-03</td></tr>\n",
       "\t<tr><th scope=row>squarefeet</th><td>187518.910  </td><td> 1          </td><td>50.459146   </td><td>1.962556e-10</td></tr>\n",
       "\t<tr><th scope=row>walkscore</th><td> 30135.130  </td><td> 1          </td><td> 8.109011   </td><td>5.366599e-03</td></tr>\n",
       "\t<tr><th scope=row>zipF</th><td> 16076.092  </td><td> 1          </td><td> 4.325888   </td><td>4.014685e-02</td></tr>\n",
       "\t<tr><th scope=row>Residuals</th><td>364192.713  </td><td>98          </td><td>       NA   </td><td>          NA</td></tr>\n",
       "</tbody>\n",
       "</table>\n"
      ],
      "text/latex": [
       "\\begin{tabular}{r|llll}\n",
       "  & Sum Sq & Df & F value & Pr(>F)\\\\\n",
       "\\hline\n",
       "\tgarage\\_spaces &   8041.665   &  1           &  2.163918    & 1.444878e-01\\\\\n",
       "\tno\\_full\\_baths &  26410.688   &  1           &  7.106807    & 8.982884e-03\\\\\n",
       "\tsquarefeet & 187518.910   &  1           & 50.459146    & 1.962556e-10\\\\\n",
       "\twalkscore &  30135.130   &  1           &  8.109011    & 5.366599e-03\\\\\n",
       "\tzipF &  16076.092   &  1           &  4.325888    & 4.014685e-02\\\\\n",
       "\tResiduals & 364192.713   & 98           &        NA    &           NA\\\\\n",
       "\\end{tabular}\n"
      ],
      "text/markdown": [
       "\n",
       "| <!--/--> | Sum Sq | Df | F value | Pr(>F) | \n",
       "|---|---|---|---|---|---|\n",
       "| garage_spaces |   8041.665   |  1           |  2.163918    | 1.444878e-01 | \n",
       "| no_full_baths |  26410.688   |  1           |  7.106807    | 8.982884e-03 | \n",
       "| squarefeet | 187518.910   |  1           | 50.459146    | 1.962556e-10 | \n",
       "| walkscore |  30135.130   |  1           |  8.109011    | 5.366599e-03 | \n",
       "| zipF |  16076.092   |  1           |  4.325888    | 4.014685e-02 | \n",
       "| Residuals | 364192.713   | 98           |        NA    |           NA | \n",
       "\n",
       "\n"
      ],
      "text/plain": [
       "              Sum Sq     Df F value   Pr(>F)      \n",
       "garage_spaces   8041.665  1  2.163918 1.444878e-01\n",
       "no_full_baths  26410.688  1  7.106807 8.982884e-03\n",
       "squarefeet    187518.910  1 50.459146 1.962556e-10\n",
       "walkscore      30135.130  1  8.109011 5.366599e-03\n",
       "zipF           16076.092  1  4.325888 4.014685e-02\n",
       "Residuals     364192.713 98        NA           NA"
      ]
     },
     "metadata": {},
     "output_type": "display_data"
    }
   ],
   "source": [
    "#Step #7 without bikescore\n",
    "rega7 <- lm(price2014 ~ garage_spaces + no_full_baths + squarefeet + walkscore   \n",
    "            + zipF , data = hoPric)\n",
    "Anova(rega7)#without bikescore"
   ]
  },
  {
   "cell_type": "code",
   "execution_count": 60,
   "metadata": {},
   "outputs": [
    {
     "data": {
      "text/html": [
       "<table>\n",
       "<thead><tr><th></th><th scope=col>Sum Sq</th><th scope=col>Df</th><th scope=col>F value</th><th scope=col>Pr(&gt;F)</th></tr></thead>\n",
       "<tbody>\n",
       "\t<tr><th scope=row>no_full_baths</th><td> 24575.19   </td><td> 1          </td><td> 6.536054   </td><td>1.208995e-02</td></tr>\n",
       "\t<tr><th scope=row>squarefeet</th><td>256535.49   </td><td> 1          </td><td>68.228554   </td><td>6.633451e-13</td></tr>\n",
       "\t<tr><th scope=row>walkscore</th><td> 30657.48   </td><td> 1          </td><td> 8.153708   </td><td>5.235936e-03</td></tr>\n",
       "\t<tr><th scope=row>zipF</th><td> 11609.91   </td><td> 1          </td><td> 3.087789   </td><td>8.197339e-02</td></tr>\n",
       "\t<tr><th scope=row>Residuals</th><td>372234.38   </td><td>99          </td><td>       NA   </td><td>          NA</td></tr>\n",
       "</tbody>\n",
       "</table>\n"
      ],
      "text/latex": [
       "\\begin{tabular}{r|llll}\n",
       "  & Sum Sq & Df & F value & Pr(>F)\\\\\n",
       "\\hline\n",
       "\tno\\_full\\_baths &  24575.19    &  1           &  6.536054    & 1.208995e-02\\\\\n",
       "\tsquarefeet & 256535.49    &  1           & 68.228554    & 6.633451e-13\\\\\n",
       "\twalkscore &  30657.48    &  1           &  8.153708    & 5.235936e-03\\\\\n",
       "\tzipF &  11609.91    &  1           &  3.087789    & 8.197339e-02\\\\\n",
       "\tResiduals & 372234.38    & 99           &        NA    &           NA\\\\\n",
       "\\end{tabular}\n"
      ],
      "text/markdown": [
       "\n",
       "| <!--/--> | Sum Sq | Df | F value | Pr(>F) | \n",
       "|---|---|---|---|---|\n",
       "| no_full_baths |  24575.19    |  1           |  6.536054    | 1.208995e-02 | \n",
       "| squarefeet | 256535.49    |  1           | 68.228554    | 6.633451e-13 | \n",
       "| walkscore |  30657.48    |  1           |  8.153708    | 5.235936e-03 | \n",
       "| zipF |  11609.91    |  1           |  3.087789    | 8.197339e-02 | \n",
       "| Residuals | 372234.38    | 99           |        NA    |           NA | \n",
       "\n",
       "\n"
      ],
      "text/plain": [
       "              Sum Sq    Df F value   Pr(>F)      \n",
       "no_full_baths  24575.19  1  6.536054 1.208995e-02\n",
       "squarefeet    256535.49  1 68.228554 6.633451e-13\n",
       "walkscore      30657.48  1  8.153708 5.235936e-03\n",
       "zipF           11609.91  1  3.087789 8.197339e-02\n",
       "Residuals     372234.38 99        NA           NA"
      ]
     },
     "metadata": {},
     "output_type": "display_data"
    }
   ],
   "source": [
    "#Step #8 without garage_spaces\n",
    "rega8 <- lm(price2014 ~ no_full_baths + squarefeet + walkscore   \n",
    "            + zipF , data = hoPric)\n",
    "Anova(rega8)#without garage_spaces"
   ]
  },
  {
   "cell_type": "code",
   "execution_count": 61,
   "metadata": {},
   "outputs": [
    {
     "data": {
      "text/html": [
       "<table>\n",
       "<thead><tr><th></th><th scope=col>Sum Sq</th><th scope=col>Df</th><th scope=col>F value</th><th scope=col>Pr(&gt;F)</th></tr></thead>\n",
       "<tbody>\n",
       "\t<tr><th scope=row>no_full_baths</th><td> 23124.58   </td><td>  1         </td><td> 6.024468   </td><td>1.583650e-02</td></tr>\n",
       "\t<tr><th scope=row>squarefeet</th><td>270045.35   </td><td>  1         </td><td>70.352839   </td><td>3.307966e-13</td></tr>\n",
       "\t<tr><th scope=row>walkscore</th><td> 51676.13   </td><td>  1         </td><td>13.462786   </td><td>3.923783e-04</td></tr>\n",
       "\t<tr><th scope=row>Residuals</th><td>383844.29   </td><td>100         </td><td>       NA   </td><td>          NA</td></tr>\n",
       "</tbody>\n",
       "</table>\n"
      ],
      "text/latex": [
       "\\begin{tabular}{r|llll}\n",
       "  & Sum Sq & Df & F value & Pr(>F)\\\\\n",
       "\\hline\n",
       "\tno\\_full\\_baths &  23124.58    &   1          &  6.024468    & 1.583650e-02\\\\\n",
       "\tsquarefeet & 270045.35    &   1          & 70.352839    & 3.307966e-13\\\\\n",
       "\twalkscore &  51676.13    &   1          & 13.462786    & 3.923783e-04\\\\\n",
       "\tResiduals & 383844.29    & 100          &        NA    &           NA\\\\\n",
       "\\end{tabular}\n"
      ],
      "text/markdown": [
       "\n",
       "| <!--/--> | Sum Sq | Df | F value | Pr(>F) | \n",
       "|---|---|---|---|\n",
       "| no_full_baths |  23124.58    |   1          |  6.024468    | 1.583650e-02 | \n",
       "| squarefeet | 270045.35    |   1          | 70.352839    | 3.307966e-13 | \n",
       "| walkscore |  51676.13    |   1          | 13.462786    | 3.923783e-04 | \n",
       "| Residuals | 383844.29    | 100          |        NA    |           NA | \n",
       "\n",
       "\n"
      ],
      "text/plain": [
       "              Sum Sq    Df  F value   Pr(>F)      \n",
       "no_full_baths  23124.58   1  6.024468 1.583650e-02\n",
       "squarefeet    270045.35   1 70.352839 3.307966e-13\n",
       "walkscore      51676.13   1 13.462786 3.923783e-04\n",
       "Residuals     383844.29 100        NA           NA"
      ]
     },
     "metadata": {},
     "output_type": "display_data"
    },
    {
     "data": {
      "text/plain": [
       "\n",
       "Call:\n",
       "lm(formula = price2014 ~ no_full_baths + squarefeet + walkscore, \n",
       "    data = hoPric)\n",
       "\n",
       "Residuals:\n",
       "     Min       1Q   Median       3Q      Max \n",
       "-136.635  -32.497   -1.176   28.674  297.549 \n",
       "\n",
       "Coefficients:\n",
       "              Estimate Std. Error t value Pr(>|t|)    \n",
       "(Intercept)    23.0400    19.1630   1.202 0.232079    \n",
       "no_full_baths  29.3358    11.9519   2.454 0.015836 *  \n",
       "squarefeet    121.6575    14.5043   8.388 3.31e-13 ***\n",
       "walkscore       0.9491     0.2587   3.669 0.000392 ***\n",
       "---\n",
       "Signif. codes:  0 '***' 0.001 '**' 0.01 '*' 0.05 '.' 0.1 ' ' 1\n",
       "\n",
       "Residual standard error: 61.96 on 100 degrees of freedom\n",
       "Multiple R-squared:  0.6969,\tAdjusted R-squared:  0.6878 \n",
       "F-statistic: 76.65 on 3 and 100 DF,  p-value: < 2.2e-16\n"
      ]
     },
     "metadata": {},
     "output_type": "display_data"
    }
   ],
   "source": [
    "#The last model\n",
    "#Step #9 without zipF \n",
    "rega9 <- lm(price2014 ~ no_full_baths + squarefeet + walkscore, data = hoPric)\n",
    "Anova(rega9)#without zipF \n",
    "summary(rega9)"
   ]
  },
  {
   "cell_type": "code",
   "execution_count": 62,
   "metadata": {
    "collapsed": true
   },
   "outputs": [],
   "source": [
    "#It can be seen in the Figure 7 that the variables squarefeet and walkscore are highly significant (p<0.001) and they \n",
    "#are followed by no_full_baths  (p<0.05).  The R-squared of the variance indicates 69.70% of variance, so it could be \n",
    "#assumed that each variable would explain around 23,23% of variance. \n",
    "\n",
    "#The estimated regression coefficient of squarefeet is 121.6575 and it indicates that if all other independent variables \n",
    "#are kept constant, then increase in one square feet of interior space in the house is associated with an increase of 121.66 \n",
    "#thousand of dollars in the houses prices.\n",
    "    \n",
    "#And the estimated regression coefficient of walkscore is 0.9491 and it shows that if all other independent variables are \n",
    "#kept constant, then increase in one score of walk friendliness is associated with an increase of 0.95 thousand of dollars \n",
    "#in the houses prices.\n",
    "\n",
    "#Additionally, the estimated regression coefficient of no_full_bath is 29.3358 and it indicates that if all other independent \n",
    "#variables are held constant, then increase in one full bathroom is associated with an increase of is 29.34 thousand of dollars \n",
    "#in the houses prices.\n"
   ]
  },
  {
   "cell_type": "code",
   "execution_count": null,
   "metadata": {
    "collapsed": true
   },
   "outputs": [],
   "source": []
  },
  {
   "cell_type": "code",
   "execution_count": 63,
   "metadata": {},
   "outputs": [
    {
     "data": {
      "image/png": "[encoded data removed]",
      "text/plain": [
       "Plot with title \"Q-Q Plot - Prices houses\""
      ]
     },
     "metadata": {},
     "output_type": "display_data"
    },
    {
     "data": {
      "image/png": "[encoded data removed]",
      "text/plain": [
       "Plot with title \"Histogram of sresid\""
      ]
     },
     "metadata": {},
     "output_type": "display_data"
    }
   ],
   "source": [
    "#Question 4\n",
    "#Using standardized residuals\n",
    "sresid <- rstandard(rega9)\n",
    "qqnorm(sresid, ylab=\"Standardized residuals\", \n",
    "xlab=\"Theoretical Quantiles\", main=\"Q-Q Plot - Prices houses\", col = \"blue\")\n",
    "#textxy(sresid, sresid, labs = hoPric$housenum)\n",
    "qqline(sresid)\n",
    "\n",
    "hist(sresid)"
   ]
  },
  {
   "cell_type": "code",
   "execution_count": 64,
   "metadata": {},
   "outputs": [
    {
     "data": {
      "image/png": "[encoded data removed]",
      "text/plain": [
       "Plot with title \"Q-Q Plot - Prices houses\""
      ]
     },
     "metadata": {},
     "output_type": "display_data"
    },
    {
     "data": {
      "image/png": "[encoded data removed]",
      "text/plain": [
       "Plot with title \"Histogram of resid\""
      ]
     },
     "metadata": {},
     "output_type": "display_data"
    }
   ],
   "source": [
    "#Checking the normality of the residuals\n",
    "resid<- residuals(rega9)\n",
    "qqnorm(resid, ylab=\"Sample Quantiles\", \n",
    "xlab=\"Theoretical Quantiles\", main=\"Q-Q Plot - Prices houses\") \n",
    "qqline(resid)\n",
    "hist(resid)"
   ]
  },
  {
   "cell_type": "code",
   "execution_count": null,
   "metadata": {
    "collapsed": true
   },
   "outputs": [],
   "source": []
  }
 ],
 "metadata": {
  "kernelspec": {
   "display_name": "R",
   "language": "R",
   "name": "ir"
  },
  "language_info": {
   "codemirror_mode": "r",
   "file_extension": ".r",
   "mimetype": "text/x-r-source",
   "name": "R",
   "pygments_lexer": "r",
   "version": "3.4.2"
  }
 },
 "nbformat": 4,
 "nbformat_minor": 2
}
